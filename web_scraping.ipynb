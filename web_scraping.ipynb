{
 "cells": [
  {
   "cell_type": "code",
   "execution_count": null,
   "metadata": {},
   "outputs": [],
   "source": [
    "from bs4 import BeautifulSoup\n",
    "import requests\n",
    "import pandas as pd"
   ]
  },
  {
   "cell_type": "code",
   "execution_count": null,
   "metadata": {},
   "outputs": [],
   "source": [
    "webpage = requests.get('https://en.wikipedia.org/wiki/List_of_largest_companies_in_the_United_States_by_revenue').text\n",
    "soup = BeautifulSoup(webpage, 'lxml')"
   ]
  },
  {
   "cell_type": "code",
   "execution_count": null,
   "metadata": {},
   "outputs": [],
   "source": [
    "data = []\n",
    "for row in soup.find_all('tr')[2:102]:\n",
    "    cols = row.find_all('td')\n",
    "    if len(cols) >= 7:\n",
    "        rank = cols[0].text.strip()\n",
    "        name = cols[1].text.strip()\n",
    "        industry = cols[2].text.strip()\n",
    "        revenue = cols[3].text.strip().replace(',', '')\n",
    "        revenue_growth = cols[4].text.strip()\n",
    "        employees = cols[5].text.strip().replace(',', '')\n",
    "        headquarters = cols[6].text.strip().title()\n",
    "        data.append([rank, name, industry, revenue, revenue_growth, employees, headquarters])\n",
    "\n",
    "df = pd.DataFrame(data, columns=['Rank', 'Name', 'Industry', 'Revenue', 'Revenue Growth', 'Number of Employees', 'Headquarter'])\n"
   ]
  },
  {
   "cell_type": "code",
   "execution_count": null,
   "metadata": {},
   "outputs": [],
   "source": [
    "df"
   ]
  }
 ],
 "metadata": {
  "language_info": {
   "name": "python"
  }
 },
 "nbformat": 4,
 "nbformat_minor": 2
}
